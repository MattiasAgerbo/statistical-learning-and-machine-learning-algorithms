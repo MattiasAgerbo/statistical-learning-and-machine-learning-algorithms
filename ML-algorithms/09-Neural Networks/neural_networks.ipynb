{
 "cells": [
  {
   "cell_type": "markdown",
   "metadata": {},
   "source": [
    "# Neural Networks\n",
    "\n",
    "Content:\n",
    "1. Detailed example: Two-layer MLP for regression\n",
    "    - Forward pass: Calculate the values of $z_1$, $z_2$, and $y$\n",
    "    - Compute the mean squared error\n",
    "    - Using backpropagation, compute the gradient or the error w.r.t the weights $w^{(2)}_2$ and $w^{(1)}_{2,2}$ \n",
    "    - Compute the updated weights for $w^{(2)}_2$ and $w^{(1)}_{2,2}$ \n",
    "2. PyTorch: 2-layer MLP for classification\n",
    "    - Create and train a 2-layer MLP"
   ]
  },
  {
   "cell_type": "markdown",
   "metadata": {},
   "source": [
    "# 1) Detailed example: Two-layer MLP for regression\n",
    "We'll be working through a forward and back-propagation example in all its details for a 2-layer MLP for regression. Our network has the following structure:\n",
    "\n",
    "![](two-layer-nn.svg)\n",
    "\n",
    "Where \n",
    "    $$\n",
    "    z_j = \\text{ReLU}\\left(a_j \\right)\n",
    "    \\qquad\n",
    "    a_j = \\sum_i w^{(1)}_{ij} x_i\n",
    "    \\qquad\n",
    "    y_j = \\sum_i w^{(2)}_{ij} z_i\n",
    "    $$\n",
    "and the biases \n",
    "    $$\n",
    "    x_0 = z_0 = 1\n",
    "    $$\n",
    "\n",
    "Suppose, we have the weights\n",
    "    $$\n",
    "    \\mathbf{W}^{(1)} = \\left[ \n",
    "        \\begin{matrix}\n",
    "        0.1 & 0.2\\\\\n",
    "        -1.1 & 1.2\\\\\n",
    "        -2.1 & 2.2\n",
    "        \\end{matrix}\n",
    "    \\right]\n",
    "    \\qquad\n",
    "    \\mathbf{w}^{(2)} = \\left[ \n",
    "        \\begin{matrix}\n",
    "        -0.1\\\\\n",
    "        1.1 \\\\\n",
    "        2.2\n",
    "        \\end{matrix}\n",
    "    \\right]\n",
    "    $$\n",
    "Notice that the bias weights are included in the weight matrix. Relating it to the drawing, we have $w_{0,1} = 0.1$, $w_{1,2} = 1.2$\n",
    "\n",
    "Moreover, we are given an input\n",
    "    $$\n",
    "    \\mathbf{x} = \\left[ \n",
    "        \\begin{matrix}\n",
    "        0.1 \\\\\n",
    "        0.2\n",
    "        \\end{matrix}\n",
    "    \\right]\n",
    "    $$\n",
    "    \n",
    "Relating these to the drawing, we have $w^{(1)}_{1,2} = 1.2$ and $x_1 = 0.1$\n",
    "\n",
    "#### Matrix notation\n",
    "Notice we use matrix notation:\n",
    "$$\n",
    "W_k = \\begin{bmatrix}\n",
    "w^{(k)}_{0,1} & \\cdots & w^{(k)}_{0,l_k} \\\\\n",
    "\\vdots & \\ddots & \\vdots \\\\\n",
    "w^{(k)}_{k_1-1,1} & \\cdots & w^{(k)}_{k-1,l_k}\n",
    "\\end{bmatrix},\n",
    "$$\n",
    "meaning the row indices start from 0 and the column indices start from 1.\n",
    "#### Forward Pass\n",
    "\n",
    "First, we define the activations for the first and second layers as a linear combination of inputs and weights, plus a bias term. For the first layer:\n",
    "\n",
    "$$\n",
    "a_1 = w_1^T \\begin{bmatrix} 1 \\\\ x \\end{bmatrix}\n",
    "$$\n",
    "\n",
    "This activation $ a_1 $ then passes through a non-linear activation function $ h $:\n",
    "\n",
    "$$\n",
    "z_1 = h(a_1)\n",
    "$$\n",
    "\n",
    "Similarly, for the second layer:\n",
    "\n",
    "$$\n",
    "a_2 = w_2^T \\begin{bmatrix} 1 \\\\ z_1 \\end{bmatrix}\n",
    "$$\n",
    "\n",
    "And the output of the network $ y $ is obtained by passing $ a_2 $ through the activation function:\n",
    "\n",
    "$$\n",
    "y(x, \\{w_1, w_2\\}) = z_2 = h(a_2)\n",
    "$$\n",
    "\n",
    "#### Backward Pass\n",
    "\n",
    "During backpropagation, we first apply the chain rule to compute the gradient of the cost $ E $ w.r.t the weights $ W_2 $:\n",
    "\n",
    "$$\n",
    "\\frac{\\partial E}{\\partial W_2} = \\frac{\\partial a_2}{\\partial W_2} \\frac{\\partial E}{\\partial a_2}^T\n",
    "$$\n",
    "\n",
    "Similarly, we apply the chain rule for the weights $ W_1 $:\n",
    "\n",
    "$$\n",
    "\\frac{\\partial E}{\\partial W_1} = \\frac{\\partial a_1}{\\partial W_1} \\frac{\\partial E}{\\partial a_1}^T\n",
    "$$\n",
    "\n",
    "Now, let's detail the parts of these chain rule expansions:\n",
    "\n",
    "The gradient of the error w.r.t the output activation $ a_2 $ is:\n",
    "\n",
    "$$\n",
    "\\frac{\\partial E}{\\partial a_2} = y - t,\n",
    "$$\n",
    "\n",
    "and the gradient of $a_2$ w.r.t $w_2$ is:\n",
    "$$\n",
    "\\frac{\\partial a_2}{\\partial W_2} = \\begin{bmatrix} 1 \\\\ z_1 \\end{bmatrix}.\n",
    "$$\n",
    "\n",
    "The gradient of the output activation $ a_2 $ w.r.t $ z_1 $ is represented by the weights $ W_2 $, since $ a_2 $ is a linear transformation of $ z_1 $:\n",
    "\n",
    "$$\n",
    "\\frac{\\partial a_1}{\\partial z_1} = W_2\n",
    "$$\n",
    "\n",
    "For the first layer, the derivative of $ z_1 $ w.r.t $ a_1 $ is the derivative of the Sigmoid activation function (see lecture slide for other actiavtion function derivatives):\n",
    "\n",
    "$$\n",
    "\\frac{\\partial z_1}{\\partial a_1} = h(a_1) \\odot (1 - h(a_1)) = z_1 \\odot (1 - z_1)\n",
    "$$\n",
    "\n",
    "Finally, we find the gradient of the error $ E $ w.r.t the first layer activation $ a_1 $ by combining the previous terms:\n",
    "\n",
    "$$\n",
    "\\frac{\\partial E}{\\partial a_1} = \\frac{\\partial z_1}{\\partial a_1} \\frac{\\partial a_2}{\\partial z_1} \\frac{\\partial E}{\\partial a_2}\n",
    "$$\n",
    "\n",
    "These gradients are used to perform the weight updates in gradient descent to train our neural network.ate on both $ W_1 $ and $ W_2 $.\n"
   ]
  },
  {
   "cell_type": "markdown",
   "metadata": {
    "tags": []
   },
   "source": [
    "## 1.1) Forward pass: Calculate the values of $z_1$, $z_2$, and $y$"
   ]
  },
  {
   "cell_type": "markdown",
   "metadata": {},
   "source": [
    "Using the values and formulas given above, as well as the ReLU activation function we determin the values. "
   ]
  },
  {
   "cell_type": "code",
   "execution_count": 1,
   "metadata": {},
   "outputs": [
    {
     "name": "stdout",
     "output_type": "stream",
     "text": [
      "z1, z2, y: 0 0.7600000000000001 1.5720000000000003\n"
     ]
    }
   ],
   "source": [
    "import numpy as np\n",
    "\n",
    "x = np.array([0.1, 0.2])\n",
    "w1 = np.array([[0.1, 0.2], [-1.1, 1.2], [-2.1, 2.2]])\n",
    "w2 = np.array([-0.1, 1.1, 2.2])\n",
    "\n",
    "def ReLU(a1):\n",
    "    return [a if a > 0 else 0 for a in a1]\n",
    "\n",
    "a = w1.T@np.insert(x, 0, 1)\n",
    "\n",
    "z = ReLU(a)\n",
    "\n",
    "y = w2.T@np.insert(z, 0, 1)\n",
    "\n",
    "print(\"z1, z2, y:\", z[0],z[1],y)"
   ]
  },
  {
   "cell_type": "markdown",
   "metadata": {},
   "source": [
    "## 1.2) Compute the mean squared error\n",
    "Suppose our target $t=2$."
   ]
  },
  {
   "cell_type": "code",
   "execution_count": 2,
   "metadata": {},
   "outputs": [
    {
     "name": "stdout",
     "output_type": "stream",
     "text": [
      "The mean squared error 0.09159199999999988\n"
     ]
    }
   ],
   "source": [
    "t = 2\n",
    "error = 1/2 * (y-t)**2\n",
    "print(\"The mean squared error\", error)"
   ]
  },
  {
   "cell_type": "markdown",
   "metadata": {},
   "source": [
    "## 1.3) Backpropagation and computeing the gradient or the error w.r.t the weights $w^{(2)}_2$ and $w^{(1)}_{2,2}$ "
   ]
  },
  {
   "cell_type": "code",
   "execution_count": 3,
   "metadata": {},
   "outputs": [
    {
     "name": "stdout",
     "output_type": "stream",
     "text": [
      "Gradient of error w.r.t w^(2)_2: -0.32527999999999985\n",
      "Gradient of error w.r.t w^(1)_{2,2}: -0.1883199999999999\n"
     ]
    }
   ],
   "source": [
    "dE_dy = y - t\n",
    "\n",
    "dE_dw2_2 = dE_dy * z[1]\n",
    "\n",
    "dE_dw1_22 = dE_dy * w2[2] * (a[1] > 0) * x[1]\n",
    "\n",
    "print(\"Gradient of error w.r.t w^(2)_2:\", dE_dw2_2)\n",
    "print(\"Gradient of error w.r.t w^(1)_{2,2}:\", dE_dw1_22)"
   ]
  },
  {
   "cell_type": "markdown",
   "metadata": {},
   "source": [
    "## 1.4) Compute the updated weights for $w^{(2)}_2$ and $w^{(1)}_{2,2}$ "
   ]
  },
  {
   "cell_type": "code",
   "execution_count": 4,
   "metadata": {},
   "outputs": [
    {
     "name": "stdout",
     "output_type": "stream",
     "text": [
      "The updated weights for w^{(2)}_2 and w^{(1)}_{2,2} 2.2325280000000003 2.181168\n"
     ]
    }
   ],
   "source": [
    "eta = 0.1\n",
    "w2[2] -= eta * dE_dw2_2 \n",
    "w1[2,1] -= - eta * dE_dw1_22 \n",
    "\n",
    "print(\"The updated weights for w^{(2)}_2 and w^{(1)}_{2,2}\", w2[2], w1[2][1])"
   ]
  },
  {
   "cell_type": "markdown",
   "metadata": {},
   "source": [
    "# 2) PyTorch: 2-layer MLP for classification\n",
    "We'll be working with the classic MNIST dataset, which we can easily get via PyTorch"
   ]
  },
  {
   "cell_type": "code",
   "execution_count": 5,
   "metadata": {},
   "outputs": [
    {
     "name": "stdout",
     "output_type": "stream",
     "text": [
      "Downloading http://yann.lecun.com/exdb/mnist/train-images-idx3-ubyte.gz\n",
      "Downloading http://yann.lecun.com/exdb/mnist/train-images-idx3-ubyte.gz to ../data\\MNIST\\raw\\train-images-idx3-ubyte.gz\n"
     ]
    },
    {
     "name": "stderr",
     "output_type": "stream",
     "text": [
      "100%|██████████████████████████████████████████████████████████████████| 9912422/9912422 [00:00<00:00, 35673679.36it/s]\n"
     ]
    },
    {
     "name": "stdout",
     "output_type": "stream",
     "text": [
      "Extracting ../data\\MNIST\\raw\\train-images-idx3-ubyte.gz to ../data\\MNIST\\raw\n",
      "\n",
      "Downloading http://yann.lecun.com/exdb/mnist/train-labels-idx1-ubyte.gz\n",
      "Downloading http://yann.lecun.com/exdb/mnist/train-labels-idx1-ubyte.gz to ../data\\MNIST\\raw\\train-labels-idx1-ubyte.gz\n"
     ]
    },
    {
     "name": "stderr",
     "output_type": "stream",
     "text": [
      "100%|██████████████████████████████████████████████████████████████████████| 28881/28881 [00:00<00:00, 13926844.54it/s]"
     ]
    },
    {
     "name": "stdout",
     "output_type": "stream",
     "text": [
      "Extracting ../data\\MNIST\\raw\\train-labels-idx1-ubyte.gz to ../data\\MNIST\\raw\n",
      "\n",
      "Downloading http://yann.lecun.com/exdb/mnist/t10k-images-idx3-ubyte.gz\n"
     ]
    },
    {
     "name": "stderr",
     "output_type": "stream",
     "text": [
      "\n"
     ]
    },
    {
     "name": "stdout",
     "output_type": "stream",
     "text": [
      "Downloading http://yann.lecun.com/exdb/mnist/t10k-images-idx3-ubyte.gz to ../data\\MNIST\\raw\\t10k-images-idx3-ubyte.gz\n"
     ]
    },
    {
     "name": "stderr",
     "output_type": "stream",
     "text": [
      "100%|██████████████████████████████████████████████████████████████████| 1648877/1648877 [00:00<00:00, 20543451.74it/s]"
     ]
    },
    {
     "name": "stdout",
     "output_type": "stream",
     "text": [
      "Extracting ../data\\MNIST\\raw\\t10k-images-idx3-ubyte.gz to ../data\\MNIST\\raw\n"
     ]
    },
    {
     "name": "stderr",
     "output_type": "stream",
     "text": [
      "\n"
     ]
    },
    {
     "name": "stdout",
     "output_type": "stream",
     "text": [
      "\n",
      "Downloading http://yann.lecun.com/exdb/mnist/t10k-labels-idx1-ubyte.gz\n",
      "Downloading http://yann.lecun.com/exdb/mnist/t10k-labels-idx1-ubyte.gz to ../data\\MNIST\\raw\\t10k-labels-idx1-ubyte.gz\n"
     ]
    },
    {
     "name": "stderr",
     "output_type": "stream",
     "text": [
      "100%|██████████████████████████████████████████████████████████████████████████████████████| 4542/4542 [00:00<?, ?it/s]"
     ]
    },
    {
     "name": "stdout",
     "output_type": "stream",
     "text": [
      "Extracting ../data\\MNIST\\raw\\t10k-labels-idx1-ubyte.gz to ../data\\MNIST\\raw\n",
      "\n"
     ]
    },
    {
     "name": "stderr",
     "output_type": "stream",
     "text": [
      "\n"
     ]
    }
   ],
   "source": [
    "import torch\n",
    "from torchvision import datasets, transforms\n",
    "from torch.utils.data import DataLoader\n",
    "\n",
    "transform = transforms.Compose([\n",
    "    transforms.ToTensor(),\n",
    "    transforms.Normalize((0.1307,), (0.3081,))\n",
    "])\n",
    "\n",
    "train_data = datasets.MNIST('../data', train=True, download=True, transform=transform)\n",
    "test_data = datasets.MNIST('../data', train=False, download=True, transform=transform)\n",
    "\n",
    "train_loader = DataLoader(\n",
    "    train_data,\n",
    "    batch_size = 64,\n",
    "    shuffle=True,\n",
    ")\n",
    "\n",
    "test_loader = DataLoader(\n",
    "    test_data,\n",
    "    batch_size = 64,\n",
    ")"
   ]
  },
  {
   "cell_type": "markdown",
   "metadata": {},
   "source": [
    "A few steps happened here:\n",
    "1. The dataset (train and test) was downloaded \n",
    "1. We created a `DataLoader` for each data split. Using this, we get batches of data (64 examples per batch here)\n",
    "1. We told asked for the training data to be shuffled\n",
    "\n",
    "Lets see what we get in a batch:"
   ]
  },
  {
   "cell_type": "code",
   "execution_count": 6,
   "metadata": {},
   "outputs": [
    {
     "data": {
      "text/plain": [
       "(torch.Size([64, 1, 28, 28]), torch.Size([64]))"
      ]
     },
     "execution_count": 6,
     "metadata": {},
     "output_type": "execute_result"
    }
   ],
   "source": [
    "data, targets = next(iter(train_loader))\n",
    "data.shape, targets.shape"
   ]
  },
  {
   "cell_type": "code",
   "execution_count": 7,
   "metadata": {},
   "outputs": [
    {
     "data": {
      "image/png": "[encoded data removed]",
      "text/plain": [
       "<Figure size 640x480 with 6 Axes>"
      ]
     },
     "metadata": {},
     "output_type": "display_data"
    }
   ],
   "source": [
    "import matplotlib.pyplot as plt\n",
    "\n",
    "fig = plt.figure()\n",
    "for i in range(6):\n",
    "    plt.subplot(2,3,i+1)\n",
    "    plt.tight_layout()\n",
    "    plt.imshow(data[i][0], cmap='gray', interpolation='none')\n",
    "    plt.title(\"Ground Truth: {}\".format(targets[i]))\n",
    "    plt.xticks([])\n",
    "    plt.yticks([])"
   ]
  },
  {
   "cell_type": "markdown",
   "metadata": {},
   "source": [
    "## 2.1) Create and train a 2-layer MLP\n",
    "For the network, we use a single hidden layer of 512 neurons with a ReLU activation function for the first weight Linear layer. The output of the second Linear layer should be a softmax.\n",
    "\n",
    "For optimisation, we use the SGD optimizer with learning rate of 0.001, and the negative log-likelihood loss.\n",
    "\n",
    "The network is trained for 5 epochs on the train data, and the prediction accuracy on the test data is reported."
   ]
  },
  {
   "cell_type": "code",
   "execution_count": 8,
   "metadata": {},
   "outputs": [],
   "source": [
    "from torch.nn import Linear, Module\n",
    "from torch.nn.functional import relu, log_softmax, nll_loss\n",
    "from torch.optim import SGD\n",
    "from torch.utils.data import DataLoader\n",
    "\n",
    "class Net(Module):\n",
    "    def __init__(self):\n",
    "        super(Net, self).__init__()\n",
    "        self.fc1 = torch.nn.Linear(in_features=784, out_features=512)\n",
    "        self.relu = torch.nn.ReLU()\n",
    "        self.fc2 = torch.nn.Linear(512, 10)\n",
    "        self.log_softmax = torch.nn.LogSoftmax(dim=1)  \n",
    "\n",
    "    def forward(self, x):\n",
    "        # Flatten the input data\n",
    "        x = x.view(x.size(0), -1)\n",
    "        \n",
    "        x = self.fc1(x)\n",
    "        x = self.relu(x)\n",
    "        x = self.fc2(x)\n",
    "        output = self.log_softmax(x)\n",
    "        return output\n",
    "\n",
    "def train(\n",
    "    model:Module, \n",
    "    train_loader:DataLoader, \n",
    "    optimizer:SGD, \n",
    "    epoch:int, \n",
    "    log_interval = 50\n",
    "):\n",
    "    # Set model to train mode\n",
    "    model.train()\n",
    "    for batch_idx, (data, target) in enumerate(train_loader):\n",
    "        # Reset the gradients\n",
    "        optimizer.zero_grad()\n",
    "        \n",
    "        # Feed the data through the model\n",
    "        output = model(data)\n",
    "        \n",
    "        # Compute the negative log-likelihood loss\n",
    "        loss = nll_loss(output, target)\n",
    "        \n",
    "        # Backward propagate the gradients\n",
    "        loss.backward()\n",
    "        \n",
    "        # Perform an update step using the optimizer\n",
    "        optimizer.step()\n",
    "        \n",
    "        if batch_idx % log_interval == 0:\n",
    "            # Log (Optional)\n",
    "            pass\n",
    "\n",
    "def test(model:Module, test_loader:DataLoader):\n",
    "    # Set model to evaluation mode\n",
    "    model.eval()\n",
    "    test_loss = 0\n",
    "    correct = 0\n",
    "    \n",
    "    # Don't accumulate gradients\n",
    "    with torch.no_grad():\n",
    "        for data, target in test_loader:\n",
    "            # Feed the data through the model\n",
    "            output = model(data)\n",
    "            \n",
    "            # Predict the class (it is the index of the max log-probability)\n",
    "            test_loss += nll_loss(output, target, reduction='sum').item()\n",
    "            pred = output.argmax(dim=1, keepdim=True)\n",
    "            \n",
    "            # Add to the number of correct\n",
    "            correct += pred.eq(target.view_as(pred)).sum().item()\n",
    "    \n",
    "    test_loss /= len(test_loader.dataset)\n",
    "\n",
    "    # Print results\n",
    "    print('\\nTest set: Accuracy: {}/{} ({:.0f}%)\\n'.format(\n",
    "        correct, \n",
    "        len(test_loader.dataset),\n",
    "        100. * correct / len(test_loader.dataset)\n",
    "    ))"
   ]
  },
  {
   "cell_type": "code",
   "execution_count": 9,
   "metadata": {},
   "outputs": [
    {
     "name": "stdout",
     "output_type": "stream",
     "text": [
      "\n",
      "Test set: Accuracy: 8241/10000 (82%)\n",
      "\n",
      "\n",
      "Test set: Accuracy: 8666/10000 (87%)\n",
      "\n",
      "\n",
      "Test set: Accuracy: 8827/10000 (88%)\n",
      "\n",
      "\n",
      "Test set: Accuracy: 8926/10000 (89%)\n",
      "\n",
      "\n",
      "Test set: Accuracy: 8992/10000 (90%)\n",
      "\n"
     ]
    }
   ],
   "source": [
    "model = Net()\n",
    "optimizer = SGD(model.parameters(), lr=0.001)\n",
    "\n",
    "epochs = 5\n",
    "for epoch in range(1, epochs + 1):\n",
    "    train(model, train_loader, optimizer, epoch, log_interval=50)\n",
    "    test(model, test_loader)"
   ]
  }
 ],
 "metadata": {
  "kernelspec": {
   "display_name": "Python 3 (ipykernel)",
   "language": "python",
   "name": "python3"
  },
  "language_info": {
   "codemirror_mode": {
    "name": "ipython",
    "version": 3
   },
   "file_extension": ".py",
   "mimetype": "text/x-python",
   "name": "python",
   "nbconvert_exporter": "python",
   "pygments_lexer": "ipython3",
   "version": "3.11.4"
  }
 },
 "nbformat": 4,
 "nbformat_minor": 4
}
